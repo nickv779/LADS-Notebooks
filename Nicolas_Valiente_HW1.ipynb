{
 "cells": [
  {
   "cell_type": "markdown",
   "metadata": {
    "colab_type": "text",
    "id": "view-in-github"
   },
   "source": [
    "<a href=\"https://colab.research.google.com/github/nickv779/LADS-Notebooks/blob/main/HW1_Integrative_Programming_Fall25.ipynb\" target=\"_parent\"><img src=\"https://colab.research.google.com/assets/colab-badge.svg\" alt=\"Open In Colab\"/></a>"
   ]
  },
  {
   "cell_type": "markdown",
   "metadata": {
    "id": "UfDp6qQtGIDA"
   },
   "source": [
    "# Homework 1, Lin. Alg. for Data Science.\n",
    "# Due date: See discord/canvas.\n",
    "\n",
    "\n",
    "# Instructions:\n",
    "-1. Copy the notebook so that you can save it!\n",
    "\n",
    "0. Solve the tasks (by writing python code and answering extra questions, if any).\n",
    "\n",
    "1. **Rename the notebook** like this: FirstName_LastName_HW1.ipynb (e.g. I'd rename it as: Hubert_Wagner_HW1.ipynb)\n",
    "\n",
    "2. Run all the cells in the notebook, so that all results are visible.\n",
    "\n",
    "3. **Important**: on colab create a shared link using the option **\"for anyone with the link\"** and switch permission from **Viewer** to **Editor**, so that it says \"Anyone on the internet with the link can edit\". Otherwise, I won't be able to read your work!\n",
    "\n",
    "4. **Submit** the above link on canvas.\n",
    "\n",
    "5. Later, *when the time comes* answer some brief questions about your solution via a google form I will send you. **This is part of the homework assignment**, so don't miss it!\n",
    "\n"
   ]
  },
  {
   "cell_type": "markdown",
   "metadata": {
    "id": "a9Qwlgvm19ig"
   },
   "source": [
    "# Collaboration rules:\n",
    "> Since we are starting, feel free to ask questions on discord if you're completely stuck or discuss it in person. Try not to spoil it to others though! And make sure you write the code on your own from scratch though.\n",
    "\n",
    "\n",
    "# Usage of LLMs (ChatGPT etc.)\n",
    "\n",
    "This is a simple task, which is meant for you to get proficient with the basics (and combining math and programming). ChatGPT is able to solve it, but then you're not really practicing and you're just wasting your time... Later assignments will rely on insights (and programming proficiency) aquired in these simpler assignments -- and they are too complex for ChatGPT. I'd suggest you try to do this from scratch.\n",
    "\n",
    "Heads up: While reasonable usage of LLMs is not disallowed (you'll definitely use them in your future work) -- in the feedback form you may be asked if/how you used them. So if you use them, note down the prompt and output.\n",
    "\n",
    "# If this assignment is too hard...\n",
    "... asking on discord is better than handing it off to an LLM...\n",
    "\n",
    "\n"
   ]
  },
  {
   "cell_type": "markdown",
   "metadata": {
    "id": "k9RtogbFEj-P"
   },
   "source": [
    "# Task 1: Approximating hard integrals\n",
    "\n",
    "> okay, some of them are not so hard.\n",
    "\n",
    "Implement a python function which can **approximate the value of a definite integral a mathematical function** on an interval $[a,b)$. Use the absolutely simplest possible method that works!\n",
    "\n",
    "## Implement two versions:\n",
    "- start from a basic python version without numpy (it will be slow)\n",
    "- implement another one using numpy (it should be much faster)\n",
    "\n",
    "Use them to evaluate the following definite integrals:\n",
    "- $$\\int_0^{\\frac{\\pi}{2}} \\arccos{\\frac{\\cos{x}}{1 + 2\\cos{x}}}\\,dx\\, .$$\n",
    "- $$\\int_0^{e} \\cosh x dx\\, .$$\n",
    "- $$\\int_1^{e} \\frac{1}{x} dx\\, .$$\n",
    "- $$\\int_0^{1} 1 dx\\, .$$\n",
    "\n",
    "> For the final version, use numpy -- **except for functions like np.trapz**. You should implement your own simple integration method.\n",
    "\n",
    "Make sure your function does exectly what it promises.\n",
    "\n",
    "> Additionally, the last integral has to be evaluated correctly using a **small number of 'elements' to approximate**, say, 1,2, or 3 (using the same function as the others without handling this extra case in a special way). It's essentially meant as a unit test for your algorithm and its implementation."
   ]
  },
  {
   "cell_type": "code",
   "execution_count": 35,
   "metadata": {
    "id": "WDNO5A_BW8Cp"
   },
   "outputs": [],
   "source": [
    "'''PLEASE READ! This is useful for the last example.\n",
    "A function taking a vector of values and returning 1 will *not* return a vector,\n",
    "but rather a single number. This function solves this silly problem.\n",
    "'''\n",
    "\n",
    "def constant_function_of_one(x):\n",
    "    '''Evaluates a constant function returning 1.\n",
    "    It handles both a single number and np.array as input.\n",
    "\n",
    "    Args:\n",
    "      x: either a float or np.array of length n\n",
    "    Returns:\n",
    "      either a single 1. (as a float) or a length-n np.array of 1.\n",
    "    '''\n",
    "    return 0 * x + 1."
   ]
  },
  {
   "cell_type": "code",
   "execution_count": 36,
   "metadata": {
    "id": "e3fHYsCFfKph"
   },
   "outputs": [],
   "source": [
    "import numpy as np\n",
    "\n",
    "def slow_integrate(f_x, from_x, to_x, num_elements):\n",
    "    '''\n",
    "    Basic python implementation for performing definite integration \n",
    "    of a passed in function with integration parameters.\n",
    "\n",
    "    Args:\n",
    "        f_x: function to integrate\n",
    "        from_x: lower bound of x\n",
    "        to_x: upper bound of x\n",
    "        num_elements: number of elements to approximate with\n",
    "    Returns:\n",
    "        area under the function within bounds\n",
    "    '''\n",
    "\n",
    "    # initialize the width of each rectangle\n",
    "    range_of_bounds = to_x - from_x\n",
    "    width = range_of_bounds / num_elements\n",
    "\n",
    "    # initialize starting values for area and current x value\n",
    "    area_sum = 0\n",
    "    curr_x = from_x\n",
    "\n",
    "    # for each iteration, calculate the rectangle area using left riemann\n",
    "    # and add it by finding the y of f(x) with x = curr_x and multiplying\n",
    "    for i in range(num_elements):\n",
    "        y = f_x(curr_x) \n",
    "        curr_x += width\n",
    "        area_sum += (width * y)\n",
    "    \n",
    "    return area_sum\n",
    "\n",
    "\n",
    "def integrate(f_x, from_x, to_x, num_elements):\n",
    "    '''\n",
    "    Numpy implementation for performing definite integration of a\n",
    "    passed in function with integration parameters\n",
    "\n",
    "    Args:\n",
    "        f_x: function to integrate\n",
    "        from_x: lower bound of x\n",
    "        to_x: upper bound of x\n",
    "        num_elements: number of elements to approximate with\n",
    "    Returns:\n",
    "        area under the function within bounds\n",
    "    '''\n",
    "    x_values = np.linspace(from_x, to_x, num_elements)\n",
    "    gap = (to_x - from_x) / num_elements\n",
    "    y_values = f_x(x_values)\n",
    "    areas = gap * y_values\n",
    "    return np.sum(areas)"
   ]
  },
  {
   "cell_type": "markdown",
   "metadata": {
    "id": "_Ep8odWwpzSr"
   },
   "source": [
    "# Task 2: Correctness\n",
    "\n",
    "Write tests for your final implementation.\n",
    "\n",
    "Hint: the exact values are $\\frac{5}{24}\\pi^2$, $ \\frac{e^e - e^{-e}}{2}$, $1$ and $1$.)\n",
    "\n",
    "For each case if $|res - correct| < 10^{-5}$. You can use the function below.\n",
    "\n",
    "\n",
    "Below add tests (asserts) that if your results are close to the correct values. You can use the provided function.\n",
    "\n",
    "> Feel free to test on other (mathematical) functions. Try to identify situations in which your function would **not** work! I will ask about this in the feedback form later.\n"
   ]
  },
  {
   "cell_type": "code",
   "execution_count": 37,
   "metadata": {
    "id": "_67jotT2pxhP"
   },
   "outputs": [],
   "source": [
    "def close_enough(a, b, num_digits):\n",
    "    return np.abs(a-b) <= 10**-num_digits"
   ]
  },
  {
   "cell_type": "code",
   "execution_count": 38,
   "metadata": {
    "id": "NcAD1UDlRM35"
   },
   "outputs": [],
   "source": [
    "# This is an example test checking if res=1.000005 is a good enough approximation\n",
    "# for the correct result (1).\n",
    "res = 1.000003\n",
    "assert close_enough(res, 1, num_digits=5) # this 'test' passes"
   ]
  },
  {
   "cell_type": "code",
   "execution_count": 46,
   "metadata": {
    "id": "qzGdtHJWv16x"
   },
   "outputs": [],
   "source": [
    "import math\n",
    "# Function definitions for each integral\n",
    "def first_func(x):\n",
    "    return np.acos(np.cos(x) / (1 + 2*np.cos(x)))\n",
    "def second_func(x):\n",
    "    return np.cosh(x)\n",
    "def third_func(x):\n",
    "    return 1 / x\n",
    "def fourth_func(x):\n",
    "    return 1"
   ]
  },
  {
   "cell_type": "code",
   "execution_count": 40,
   "metadata": {},
   "outputs": [],
   "source": [
    "# First integral approximation with python and numpy integrations\n",
    "act = (5 / 24)*(math.pi**2)\n",
    "res_py = slow_integrate(first_func, 0, math.pi/2, 1500000) # python approx\n",
    "res_np = integrate(first_func, 0, np.pi/2, 1500000) # numpy approx\n",
    "assert close_enough(res_py, act, num_digits=5)\n",
    "assert close_enough(res_np, act, num_digits=5)"
   ]
  },
  {
   "cell_type": "code",
   "execution_count": 41,
   "metadata": {},
   "outputs": [],
   "source": [
    "# Second integral approximation with python and numpy integrations\n",
    "act = (math.e**math.e - math.e**-math.e) / 2\n",
    "res_py = slow_integrate(second_func, 0, math.e, 1500000) # python approx\n",
    "res_np = integrate(second_func, 0, np.e, 1500000) # numpy approx\n",
    "assert close_enough(res_py, act, num_digits=5)\n",
    "assert close_enough(res_np, act, num_digits=5)"
   ]
  },
  {
   "cell_type": "code",
   "execution_count": 42,
   "metadata": {},
   "outputs": [],
   "source": [
    "# Third integral approximation with python and numpy integrations\n",
    "act = 1\n",
    "res_py = slow_integrate(third_func, 1, math.e, 15000000) # python approx\n",
    "res_np = integrate(third_func, 1, np.e, 1500000) # numpy approx\n",
    "assert close_enough(res_py, act, num_digits=5)\n",
    "assert close_enough(res_np, act, num_digits=5)"
   ]
  },
  {
   "cell_type": "code",
   "execution_count": 43,
   "metadata": {},
   "outputs": [],
   "source": [
    "# Fourth integral approximation with python and numpy integrations\n",
    "act = 1\n",
    "res_py = slow_integrate(fourth_func, 0, 1, 3) # python approx\n",
    "res_np = constant_function_of_one(integrate(fourth_func, 0, 1, 3)) # numpy approx\n",
    "assert close_enough(res_py, act, num_digits=5)\n",
    "assert close_enough(res_np, act, num_digits=5)"
   ]
  },
  {
   "cell_type": "markdown",
   "metadata": {
    "id": "gWZyy4ny_hJV"
   },
   "source": [
    "# Task 3: Efficiency\n",
    "\n",
    "\n",
    "Run your 'integrate' functions on the second example (with $\\cosh$) using $n = 10^7$ samples. A good implementation using numpy should take around $0.25s = 250ms$.\n",
    "\n",
    "Q: How much faster is it than your basic python (non-numpy) implementation?\n",
    "\n",
    "> Remember that mixing numpy and pure python code can lead to slow performance!"
   ]
  },
  {
   "cell_type": "code",
   "execution_count": 44,
   "metadata": {},
   "outputs": [
    {
     "name": "stdout",
     "output_type": "stream",
     "text": [
      "44 s ± 763 ms per loop (mean ± std. dev. of 7 runs, 1 loop each)\n"
     ]
    }
   ],
   "source": [
    "%%timeit\n",
    "slow_integrate(second_func, 0, math.e, 10**7)"
   ]
  },
  {
   "cell_type": "code",
   "execution_count": 45,
   "metadata": {},
   "outputs": [
    {
     "name": "stdout",
     "output_type": "stream",
     "text": [
      "591 ms ± 7.39 ms per loop (mean ± std. dev. of 7 runs, 1 loop each)\n"
     ]
    }
   ],
   "source": [
    "%%timeit\n",
    "integrate(second_func, 0, np.e, 10**7)"
   ]
  },
  {
   "cell_type": "markdown",
   "metadata": {},
   "source": [
    "The numpy implementation reportedly ran for 591 ms per run whereas the basic python implementation ran for 44 seconds per run, resulting in the numpy implementation running for 1.4% of the time the python implementation took (or 71x faster)."
   ]
  },
  {
   "cell_type": "markdown",
   "metadata": {
    "id": "msvEzCemzw9B"
   },
   "source": [
    "# Task 4: Documentation\n",
    "\n",
    "Make sure your code that is reusable is properly commented (especially the main function using numpy).\n",
    "\n",
    "If you've identified any situations in which your function would fail -- mention this in a comment so that your users are aware."
   ]
  },
  {
   "cell_type": "markdown",
   "metadata": {
    "id": "_VuBcEiK1i_c"
   },
   "source": [
    "# Evaluation criteria\n",
    "\n",
    "Later, I will send you a form asking a bunch of question about your solutions.\n",
    "\n",
    "Some things to look out for:\n",
    "- correctness\n",
    "- tests\n",
    "- code readability (good variable and function names)\n",
    "- good comments/documentation (especially for any functions you implement)\n",
    "- flexibility (there should be only 1 implementation, no extra cases)\n",
    "- efficiency (use numpy wisely, avoid python for loops)"
   ]
  }
 ],
 "metadata": {
  "colab": {
   "include_colab_link": true,
   "provenance": []
  },
  "kernelspec": {
   "display_name": "Python 3 (ipykernel)",
   "language": "python",
   "name": "python3"
  },
  "language_info": {
   "codemirror_mode": {
    "name": "ipython",
    "version": 3
   },
   "file_extension": ".py",
   "mimetype": "text/x-python",
   "name": "python",
   "nbconvert_exporter": "python",
   "pygments_lexer": "ipython3",
   "version": "3.13.7"
  }
 },
 "nbformat": 4,
 "nbformat_minor": 4
}
